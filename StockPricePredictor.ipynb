{
  "nbformat": 4,
  "nbformat_minor": 0,
  "metadata": {
    "colab": {
      "name": "StockPricePredictor.ipynb",
      "provenance": [],
      "collapsed_sections": []
    },
    "kernelspec": {
      "name": "python3",
      "display_name": "Python 3"
    },
    "language_info": {
      "name": "python"
    }
  },
  "cells": [
    {
      "cell_type": "code",
      "metadata": {
        "id": "xLuvKkfona65"
      },
      "source": [
        "#Import necessary librabries\n",
        "import math\n",
        "import pandas as pd\n",
        "import numpy as np\n",
        "import pandas_datareader as web\n",
        "import datetime\n",
        "from sklearn.preprocessing import  MinMaxScaler\n",
        "from tensorflow.keras.models import Sequential\n",
        "from tensorflow.keras.layers import Dense, LSTM, Dropout\n",
        "import matplotlib.pyplot as plt\n",
        "plt.style.use('bmh')"
      ],
      "execution_count": 48,
      "outputs": []
    },
    {
      "cell_type": "code",
      "metadata": {
        "id": "5xJXDBa7qijP"
      },
      "source": [
        "#Load Data from Drive\n",
        "df = pd.read_csv('/content/drive/MyDrive/StockPricePrediction/FB.csv', index_col='Date', parse_dates=True)\n",
        "company = 'FACEBOOK'"
      ],
      "execution_count": 49,
      "outputs": []
    },
    {
      "cell_type": "code",
      "metadata": {
        "colab": {
          "base_uri": "https://localhost:8080/"
        },
        "id": "NuMZwMTrvIZA",
        "outputId": "adcac77a-b432-4798-f29b-4d7d6d12864c"
      },
      "source": [
        "#Check if any null values are present\n",
        "df.isna().any()"
      ],
      "execution_count": 50,
      "outputs": [
        {
          "output_type": "execute_result",
          "data": {
            "text/plain": [
              "Open         False\n",
              "High         False\n",
              "Low          False\n",
              "Close        False\n",
              "Adj Close    False\n",
              "Volume       False\n",
              "dtype: bool"
            ]
          },
          "metadata": {},
          "execution_count": 50
        }
      ]
    },
    {
      "cell_type": "code",
      "metadata": {
        "colab": {
          "base_uri": "https://localhost:8080/"
        },
        "id": "r1kidWizvPi9",
        "outputId": "42da6317-e3cd-452b-f53f-567f677f7fad"
      },
      "source": [
        "#Description of loaded Dataset \n",
        "df.info()"
      ],
      "execution_count": 51,
      "outputs": [
        {
          "output_type": "stream",
          "text": [
            "<class 'pandas.core.frame.DataFrame'>\n",
            "DatetimeIndex: 2078 entries, 2012-05-18 to 2020-08-20\n",
            "Data columns (total 6 columns):\n",
            " #   Column     Non-Null Count  Dtype  \n",
            "---  ------     --------------  -----  \n",
            " 0   Open       2078 non-null   float64\n",
            " 1   High       2078 non-null   float64\n",
            " 2   Low        2078 non-null   float64\n",
            " 3   Close      2078 non-null   float64\n",
            " 4   Adj Close  2078 non-null   float64\n",
            " 5   Volume     2078 non-null   int64  \n",
            "dtypes: float64(5), int64(1)\n",
            "memory usage: 113.6 KB\n"
          ],
          "name": "stdout"
        }
      ]
    },
    {
      "cell_type": "code",
      "metadata": {
        "colab": {
          "base_uri": "https://localhost:8080/",
          "height": 296
        },
        "id": "lkulAOqDqpin",
        "outputId": "b207affd-cb53-4bb3-f484-a48b463c89f4"
      },
      "source": [
        "#Data Visulization of Closing price of Facebook Stock since the year 2012 till 2021\n",
        "plt.title('Facebook')\n",
        "plt.xlabel('Years')\n",
        "plt.ylabel('Closing Price USD')\n",
        "plt.plot(df['Close'])\n",
        "plt.show()"
      ],
      "execution_count": 69,
      "outputs": [
        {
          "output_type": "display_data",
          "data": {
            "image/png": "[encoded data removed]",
            "text/plain": [
              "<Figure size 432x288 with 1 Axes>"
            ]
          },
          "metadata": {
            "needs_background": "light"
          }
        }
      ]
    },
    {
      "cell_type": "code",
      "metadata": {
        "id": "oiVDBz-msLiH"
      },
      "source": [
        "training_set = df['Close']\n",
        "training_set = pd.DataFrame(training_set)"
      ],
      "execution_count": 53,
      "outputs": []
    },
    {
      "cell_type": "code",
      "metadata": {
        "id": "eeoI_YEsq4zG"
      },
      "source": [
        "#Data Preprocessing i.e scaling the data in the range of 0 to 1\n",
        "sc = MinMaxScaler(feature_range=(0,1))\n",
        "training_set_scaled = sc.fit_transform(training_set.values.reshape(-1,1))"
      ],
      "execution_count": 54,
      "outputs": []
    },
    {
      "cell_type": "code",
      "metadata": {
        "colab": {
          "base_uri": "https://localhost:8080/"
        },
        "id": "l0FnvHx42kYG",
        "outputId": "68701126-0056-4b1b-dcf2-bd763cef1a5e"
      },
      "source": [
        "training_set.shape"
      ],
      "execution_count": 55,
      "outputs": [
        {
          "output_type": "execute_result",
          "data": {
            "text/plain": [
              "(2078, 1)"
            ]
          },
          "metadata": {},
          "execution_count": 55
        }
      ]
    },
    {
      "cell_type": "code",
      "metadata": {
        "id": "-nnSF19N2kR0"
      },
      "source": [
        "#Number of days to take into consideration for predicting the next price\n",
        "prediction_days = 20"
      ],
      "execution_count": 56,
      "outputs": []
    },
    {
      "cell_type": "code",
      "metadata": {
        "id": "6xvMMeuG2O7D"
      },
      "source": [
        "X_train = []\n",
        "y_train = []\n",
        "for i in range(prediction_days, len(training_set_scaled)):\n",
        "  X_train.append(training_set_scaled[i-prediction_days:i, 0])\n",
        "  y_train.append(training_set_scaled[i, 0])\n",
        "\n",
        "\n",
        "X_train, y_train = np.array(X_train), np.array(y_train)\n",
        "X_train = np.reshape(X_train, (X_train.shape[0], X_train.shape[1], 1))\n"
      ],
      "execution_count": 57,
      "outputs": []
    },
    {
      "cell_type": "code",
      "metadata": {
        "colab": {
          "base_uri": "https://localhost:8080/"
        },
        "id": "TmZo7PNLjokg",
        "outputId": "18978b41-9cc4-4eaf-fc53-4939a3733b67"
      },
      "source": [
        "X_train"
      ],
      "execution_count": 58,
      "outputs": [
        {
          "output_type": "execute_result",
          "data": {
            "text/plain": [
              "array([[[0.0815823 ],\n",
              "        [0.06486787],\n",
              "        [0.05280961],\n",
              "        ...,\n",
              "        [0.03796561],\n",
              "        [0.04202484],\n",
              "        [0.04886978]],\n",
              "\n",
              "       [[0.06486787],\n",
              "        [0.05280961],\n",
              "        [0.05678924],\n",
              "        ...,\n",
              "        [0.04202484],\n",
              "        [0.04886978],\n",
              "        [0.05444126]],\n",
              "\n",
              "       [[0.05280961],\n",
              "        [0.05678924],\n",
              "        [0.06088825],\n",
              "        ...,\n",
              "        [0.04886978],\n",
              "        [0.05444126],\n",
              "        [0.05643107]],\n",
              "\n",
              "       ...,\n",
              "\n",
              "       [[0.89151541],\n",
              "        [0.88403369],\n",
              "        [0.85510187],\n",
              "        ...,\n",
              "        [0.96931701],\n",
              "        [0.96907824],\n",
              "        [0.96875993]],\n",
              "\n",
              "       [[0.88403369],\n",
              "        [0.85510187],\n",
              "        [0.84758038],\n",
              "        ...,\n",
              "        [0.96907824],\n",
              "        [0.96875993],\n",
              "        [0.97345585]],\n",
              "\n",
              "       [[0.85510187],\n",
              "        [0.84758038],\n",
              "        [0.85868351],\n",
              "        ...,\n",
              "        [0.96875993],\n",
              "        [0.97345585],\n",
              "        [0.97445076]]])"
            ]
          },
          "metadata": {},
          "execution_count": 58
        }
      ]
    },
    {
      "cell_type": "code",
      "metadata": {
        "id": "qPlXZjeoJNvY"
      },
      "source": [
        "#Building the model with LSTM, Dropout layers and one Dense layer at the end\n",
        "model = Sequential()\n",
        "\n",
        "model.add(LSTM(units=50, return_sequences=True, input_shape=(X_train.shape[1], 1)))\n",
        "model.add(Dropout(0.2))\n",
        "\n",
        "model.add(LSTM(units=50, return_sequences=True))\n",
        "model.add(Dropout(0.2))\n",
        "\n",
        "model.add(LSTM(units=50, return_sequences=True))\n",
        "model.add(Dropout(0.2))\n",
        "\n",
        "model.add(LSTM(units=50))\n",
        "model.add(Dropout(0.2))\n",
        "\n",
        "model.add(Dense(units=1))\n",
        "\n"
      ],
      "execution_count": 59,
      "outputs": []
    },
    {
      "cell_type": "code",
      "metadata": {
        "colab": {
          "base_uri": "https://localhost:8080/"
        },
        "id": "E7-srfQuKIkj",
        "outputId": "2d1c69bd-0e0f-43a9-bd65-4ca137303541"
      },
      "source": [
        "#Compile the model with Adam Optimizer and loss function Mean Squared Error\n",
        "model.compile(optimizer='adam', loss='mean_squared_error')\n",
        "\n",
        "\n",
        "#Train the model by passing the input with 100 epochs and batch size 32\n",
        "model.fit(X_train, y_train, epochs=100, batch_size=32)"
      ],
      "execution_count": 60,
      "outputs": [
        {
          "output_type": "stream",
          "text": [
            "Epoch 1/100\n",
            "65/65 [==============================] - 8s 39ms/step - loss: 0.0168\n",
            "Epoch 2/100\n",
            "65/65 [==============================] - 3s 39ms/step - loss: 0.0035\n",
            "Epoch 3/100\n",
            "65/65 [==============================] - 3s 39ms/step - loss: 0.0033\n",
            "Epoch 4/100\n",
            "65/65 [==============================] - 3s 39ms/step - loss: 0.0026\n",
            "Epoch 5/100\n",
            "65/65 [==============================] - 3s 39ms/step - loss: 0.0029\n",
            "Epoch 6/100\n",
            "65/65 [==============================] - 3s 39ms/step - loss: 0.0030\n",
            "Epoch 7/100\n",
            "65/65 [==============================] - 3s 39ms/step - loss: 0.0030\n",
            "Epoch 8/100\n",
            "65/65 [==============================] - 3s 39ms/step - loss: 0.0025\n",
            "Epoch 9/100\n",
            "65/65 [==============================] - 3s 41ms/step - loss: 0.0023\n",
            "Epoch 10/100\n",
            "65/65 [==============================] - 3s 40ms/step - loss: 0.0022\n",
            "Epoch 11/100\n",
            "65/65 [==============================] - 3s 39ms/step - loss: 0.0022\n",
            "Epoch 12/100\n",
            "65/65 [==============================] - 3s 39ms/step - loss: 0.0024\n",
            "Epoch 13/100\n",
            "65/65 [==============================] - 3s 39ms/step - loss: 0.0021\n",
            "Epoch 14/100\n",
            "65/65 [==============================] - 3s 40ms/step - loss: 0.0020\n",
            "Epoch 15/100\n",
            "65/65 [==============================] - 3s 39ms/step - loss: 0.0021\n",
            "Epoch 16/100\n",
            "65/65 [==============================] - 3s 40ms/step - loss: 0.0019\n",
            "Epoch 17/100\n",
            "65/65 [==============================] - 3s 39ms/step - loss: 0.0021\n",
            "Epoch 18/100\n",
            "65/65 [==============================] - 3s 39ms/step - loss: 0.0017\n",
            "Epoch 19/100\n",
            "65/65 [==============================] - 3s 39ms/step - loss: 0.0019\n",
            "Epoch 20/100\n",
            "65/65 [==============================] - 3s 40ms/step - loss: 0.0016\n",
            "Epoch 21/100\n",
            "65/65 [==============================] - 3s 39ms/step - loss: 0.0016\n",
            "Epoch 22/100\n",
            "65/65 [==============================] - 3s 38ms/step - loss: 0.0017\n",
            "Epoch 23/100\n",
            "65/65 [==============================] - 3s 39ms/step - loss: 0.0017\n",
            "Epoch 24/100\n",
            "65/65 [==============================] - 3s 39ms/step - loss: 0.0017\n",
            "Epoch 25/100\n",
            "65/65 [==============================] - 3s 39ms/step - loss: 0.0016\n",
            "Epoch 26/100\n",
            "65/65 [==============================] - 3s 39ms/step - loss: 0.0020\n",
            "Epoch 27/100\n",
            "65/65 [==============================] - 3s 39ms/step - loss: 0.0015\n",
            "Epoch 28/100\n",
            "65/65 [==============================] - 3s 39ms/step - loss: 0.0015\n",
            "Epoch 29/100\n",
            "65/65 [==============================] - 3s 39ms/step - loss: 0.0015\n",
            "Epoch 30/100\n",
            "65/65 [==============================] - 3s 39ms/step - loss: 0.0014\n",
            "Epoch 31/100\n",
            "65/65 [==============================] - 2s 38ms/step - loss: 0.0015\n",
            "Epoch 32/100\n",
            "65/65 [==============================] - 3s 39ms/step - loss: 0.0014\n",
            "Epoch 33/100\n",
            "65/65 [==============================] - 3s 39ms/step - loss: 0.0014\n",
            "Epoch 34/100\n",
            "65/65 [==============================] - 3s 39ms/step - loss: 0.0014\n",
            "Epoch 35/100\n",
            "65/65 [==============================] - 3s 39ms/step - loss: 0.0014\n",
            "Epoch 36/100\n",
            "65/65 [==============================] - 3s 38ms/step - loss: 0.0012\n",
            "Epoch 37/100\n",
            "65/65 [==============================] - 3s 39ms/step - loss: 0.0012\n",
            "Epoch 38/100\n",
            "65/65 [==============================] - 3s 40ms/step - loss: 0.0012\n",
            "Epoch 39/100\n",
            "65/65 [==============================] - 3s 39ms/step - loss: 0.0013\n",
            "Epoch 40/100\n",
            "65/65 [==============================] - 3s 39ms/step - loss: 0.0013\n",
            "Epoch 41/100\n",
            "65/65 [==============================] - 3s 39ms/step - loss: 0.0012\n",
            "Epoch 42/100\n",
            "65/65 [==============================] - 3s 40ms/step - loss: 0.0012\n",
            "Epoch 43/100\n",
            "65/65 [==============================] - 3s 39ms/step - loss: 0.0011\n",
            "Epoch 44/100\n",
            "65/65 [==============================] - 3s 39ms/step - loss: 0.0012\n",
            "Epoch 45/100\n",
            "65/65 [==============================] - 3s 39ms/step - loss: 0.0012\n",
            "Epoch 46/100\n",
            "65/65 [==============================] - 3s 40ms/step - loss: 0.0011\n",
            "Epoch 47/100\n",
            "65/65 [==============================] - 3s 40ms/step - loss: 0.0012\n",
            "Epoch 48/100\n",
            "65/65 [==============================] - 3s 39ms/step - loss: 0.0012\n",
            "Epoch 49/100\n",
            "65/65 [==============================] - 3s 39ms/step - loss: 0.0011\n",
            "Epoch 50/100\n",
            "65/65 [==============================] - 3s 39ms/step - loss: 0.0011\n",
            "Epoch 51/100\n",
            "65/65 [==============================] - 3s 39ms/step - loss: 0.0011\n",
            "Epoch 52/100\n",
            "65/65 [==============================] - 3s 40ms/step - loss: 0.0010\n",
            "Epoch 53/100\n",
            "65/65 [==============================] - 3s 39ms/step - loss: 0.0010\n",
            "Epoch 54/100\n",
            "65/65 [==============================] - 3s 39ms/step - loss: 0.0010\n",
            "Epoch 55/100\n",
            "65/65 [==============================] - 3s 40ms/step - loss: 9.6847e-04\n",
            "Epoch 56/100\n",
            "65/65 [==============================] - 3s 39ms/step - loss: 9.6443e-04\n",
            "Epoch 57/100\n",
            "65/65 [==============================] - 3s 39ms/step - loss: 0.0011\n",
            "Epoch 58/100\n",
            "65/65 [==============================] - 3s 39ms/step - loss: 9.3970e-04\n",
            "Epoch 59/100\n",
            "65/65 [==============================] - 3s 39ms/step - loss: 9.6030e-04\n",
            "Epoch 60/100\n",
            "65/65 [==============================] - 3s 39ms/step - loss: 9.2425e-04\n",
            "Epoch 61/100\n",
            "65/65 [==============================] - 3s 39ms/step - loss: 8.9840e-04\n",
            "Epoch 62/100\n",
            "65/65 [==============================] - 3s 39ms/step - loss: 9.4790e-04\n",
            "Epoch 63/100\n",
            "65/65 [==============================] - 3s 41ms/step - loss: 9.8489e-04\n",
            "Epoch 64/100\n",
            "65/65 [==============================] - 2s 38ms/step - loss: 0.0011\n",
            "Epoch 65/100\n",
            "65/65 [==============================] - 3s 39ms/step - loss: 8.8070e-04\n",
            "Epoch 66/100\n",
            "65/65 [==============================] - 3s 39ms/step - loss: 9.7532e-04\n",
            "Epoch 67/100\n",
            "65/65 [==============================] - 3s 39ms/step - loss: 9.3355e-04\n",
            "Epoch 68/100\n",
            "65/65 [==============================] - 3s 40ms/step - loss: 0.0010\n",
            "Epoch 69/100\n",
            "65/65 [==============================] - 3s 40ms/step - loss: 9.0665e-04\n",
            "Epoch 70/100\n",
            "65/65 [==============================] - 3s 40ms/step - loss: 8.9807e-04\n",
            "Epoch 71/100\n",
            "65/65 [==============================] - 3s 39ms/step - loss: 8.5964e-04\n",
            "Epoch 72/100\n",
            "65/65 [==============================] - 3s 41ms/step - loss: 8.0635e-04\n",
            "Epoch 73/100\n",
            "65/65 [==============================] - 3s 39ms/step - loss: 9.7920e-04\n",
            "Epoch 74/100\n",
            "65/65 [==============================] - 3s 40ms/step - loss: 8.9543e-04\n",
            "Epoch 75/100\n",
            "65/65 [==============================] - 3s 39ms/step - loss: 0.0010\n",
            "Epoch 76/100\n",
            "65/65 [==============================] - 3s 40ms/step - loss: 8.6869e-04\n",
            "Epoch 77/100\n",
            "65/65 [==============================] - 3s 39ms/step - loss: 8.1035e-04\n",
            "Epoch 78/100\n",
            "65/65 [==============================] - 3s 40ms/step - loss: 9.7708e-04\n",
            "Epoch 79/100\n",
            "65/65 [==============================] - 3s 41ms/step - loss: 8.4327e-04\n",
            "Epoch 80/100\n",
            "65/65 [==============================] - 3s 39ms/step - loss: 9.0358e-04\n",
            "Epoch 81/100\n",
            "65/65 [==============================] - 3s 39ms/step - loss: 7.7626e-04\n",
            "Epoch 82/100\n",
            "65/65 [==============================] - 3s 39ms/step - loss: 8.0293e-04\n",
            "Epoch 83/100\n",
            "65/65 [==============================] - 3s 40ms/step - loss: 9.2271e-04\n",
            "Epoch 84/100\n",
            "65/65 [==============================] - 3s 40ms/step - loss: 7.9873e-04\n",
            "Epoch 85/100\n",
            "65/65 [==============================] - 3s 39ms/step - loss: 8.8877e-04\n",
            "Epoch 86/100\n",
            "65/65 [==============================] - 3s 39ms/step - loss: 9.1493e-04\n",
            "Epoch 87/100\n",
            "65/65 [==============================] - 3s 39ms/step - loss: 7.9925e-04\n",
            "Epoch 88/100\n",
            "65/65 [==============================] - 3s 40ms/step - loss: 9.4919e-04\n",
            "Epoch 89/100\n",
            "65/65 [==============================] - 3s 40ms/step - loss: 7.5941e-04\n",
            "Epoch 90/100\n",
            "65/65 [==============================] - 3s 39ms/step - loss: 7.9622e-04\n",
            "Epoch 91/100\n",
            "65/65 [==============================] - 3s 39ms/step - loss: 8.7967e-04\n",
            "Epoch 92/100\n",
            "65/65 [==============================] - 3s 40ms/step - loss: 8.2315e-04\n",
            "Epoch 93/100\n",
            "65/65 [==============================] - 3s 40ms/step - loss: 7.9469e-04\n",
            "Epoch 94/100\n",
            "65/65 [==============================] - 3s 40ms/step - loss: 7.6905e-04\n",
            "Epoch 95/100\n",
            "65/65 [==============================] - 3s 40ms/step - loss: 7.7026e-04\n",
            "Epoch 96/100\n",
            "65/65 [==============================] - 3s 42ms/step - loss: 7.6786e-04\n",
            "Epoch 97/100\n",
            "65/65 [==============================] - 3s 40ms/step - loss: 7.9391e-04\n",
            "Epoch 98/100\n",
            "65/65 [==============================] - 3s 39ms/step - loss: 7.8022e-04\n",
            "Epoch 99/100\n",
            "65/65 [==============================] - 3s 39ms/step - loss: 8.5443e-04\n",
            "Epoch 100/100\n",
            "65/65 [==============================] - 3s 39ms/step - loss: 8.6382e-04\n"
          ],
          "name": "stdout"
        },
        {
          "output_type": "execute_result",
          "data": {
            "text/plain": [
              "<keras.callbacks.History at 0x7f4f355fb5d0>"
            ]
          },
          "metadata": {},
          "execution_count": 60
        }
      ]
    },
    {
      "cell_type": "code",
      "metadata": {
        "colab": {
          "base_uri": "https://localhost:8080/"
        },
        "id": "o5LS8uG9MtQS",
        "outputId": "fdcafd36-b222-4673-8a45-89d694acc7e2"
      },
      "source": [
        "X_train.shape"
      ],
      "execution_count": 61,
      "outputs": [
        {
          "output_type": "execute_result",
          "data": {
            "text/plain": [
              "(2058, 20, 1)"
            ]
          },
          "metadata": {},
          "execution_count": 61
        }
      ]
    },
    {
      "cell_type": "code",
      "metadata": {
        "id": "Bo-nL4-FKRIU"
      },
      "source": [
        "#Loading Test Data from the year 2021 till now\n",
        "test_data = pd.read_csv('/content/drive/MyDrive/StockPricePrediction/FB_test.csv')\n",
        "actual_prices = test_data['Close'].values\n",
        "\n",
        "total_dataset = pd.concat((df['Close'], test_data['Close']), axis=0)\n",
        "\n",
        "\n",
        "model_inputs = total_dataset[len(total_dataset) - len(test_data) - prediction_days:].values\n",
        "model_inputs = model_inputs.reshape(-1, 1)\n",
        "model_inputs = sc.transform(model_inputs)\n",
        "\n"
      ],
      "execution_count": 62,
      "outputs": []
    },
    {
      "cell_type": "code",
      "metadata": {
        "id": "FFp_hRwjOXTB"
      },
      "source": [
        "#Preprocessing of test data imported\n",
        "x_test = []\n",
        "\n",
        "for x in range(prediction_days, len(model_inputs)):\n",
        "  x_test.append(model_inputs[x-prediction_days:x, 0])\n",
        "\n",
        "x_test = np.array(x_test)\n",
        "x_test = np.reshape(x_test, (x_test.shape[0], x_test.shape[1], 1))\n",
        "\n",
        "#Predicting the prices from using the trained model\n",
        "predicted_prices = model.predict(x_test)\n",
        "predicted_prices = sc.inverse_transform(predicted_prices)"
      ],
      "execution_count": 63,
      "outputs": []
    },
    {
      "cell_type": "code",
      "metadata": {
        "colab": {
          "base_uri": "https://localhost:8080/",
          "height": 296
        },
        "id": "XgoYN4O2j-Jx",
        "outputId": "a3520319-04a2-4757-a0bd-b0bad23657a9"
      },
      "source": [
        "#Graphical Representation of actual and predicted prices of the stock\n",
        "plt.plot(actual_prices, color='green', label=f\"Actual {company} Price\")\n",
        "plt.plot(predicted_prices, color='red', label=f\"Predicted {company} Price\")\n",
        "plt.title(f\"{company} Share Price\")\n",
        "plt.xlabel('Time')\n",
        "plt.ylabel(f\"{company} Share Price\")\n",
        "plt.legend()\n",
        "plt.show()"
      ],
      "execution_count": 64,
      "outputs": [
        {
          "output_type": "display_data",
          "data": {
            "image/png": "[encoded data removed]",
            "text/plain": [
              "<Figure size 432x288 with 1 Axes>"
            ]
          },
          "metadata": {
            "needs_background": "light"
          }
        }
      ]
    },
    {
      "cell_type": "code",
      "metadata": {
        "colab": {
          "base_uri": "https://localhost:8080/"
        },
        "id": "zo7e1soMlPJx",
        "outputId": "62e4ba61-747c-4eeb-c2a9-cef3bb763284"
      },
      "source": [
        "#Predicting price value of Next Day\n",
        "real_data = [model_inputs[len(model_inputs) + 1 - prediction_days:len(model_inputs+1), 0]]\n",
        "real_data = np.array(real_data)\n",
        "real_data.shape\n",
        "real_data = np.reshape(real_data, (real_data.shape[0], real_data.shape[1], 1))\n",
        "\n",
        "prediction = model.predict(real_data)\n",
        "prediction = sc.inverse_transform(prediction)\n",
        "print(\"Prediction:\",prediction)"
      ],
      "execution_count": 67,
      "outputs": [
        {
          "output_type": "stream",
          "text": [
            "Prediction: [[333.2414]]\n"
          ],
          "name": "stdout"
        }
      ]
    },
    {
      "cell_type": "markdown",
      "metadata": {
        "id": "ZKO2cxZyw2WC"
      },
      "source": [
        "Right now the price of Facebook stocks is 359.37 USD, which is nearby to the amount which we predicted."
      ]
    },
    {
      "cell_type": "code",
      "metadata": {
        "id": "CsG7Gvt0qAkE"
      },
      "source": [
        ""
      ],
      "execution_count": 65,
      "outputs": []
    }
  ]
}